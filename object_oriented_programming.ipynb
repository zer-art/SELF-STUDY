{
 "cells": [
  {
   "cell_type": "markdown",
   "metadata": {},
   "source": [
    "## Object Oriented Programming"
   ]
  },
  {
   "cell_type": "markdown",
   "metadata": {},
   "source": [
    "**Class** -  *A class is a blueprint for creating objects. It defines the attributes (data) and methods (functions) that objects of that class will have. Think of a class as a template and an object as an instance of that template.*"
   ]
  },
  {
   "cell_type": "code",
   "execution_count": 1,
   "metadata": {},
   "outputs": [
    {
     "name": "stdout",
     "output_type": "stream",
     "text": [
      "<__main__.Car object at 0x000001A739158EC0>\n"
     ]
    }
   ],
   "source": [
    "#creating a sample class of car \n",
    "class Car : \n",
    "    brand = None\n",
    "    model = None\n",
    "\n",
    "#creating an object of the class Car\n",
    "my_car = Car()  \n",
    "print(my_car) \n"
   ]
  },
  {
   "cell_type": "markdown",
   "metadata": {},
   "source": [
    "**self** *allows methods to access and modify the specific attributes of the current object, rather than accidentally modifying attributes of other objects of the same class.*\n",
    "\n",
    "**self.attribute_name** *- Attribute inside the class*  \n",
    "**brand, model** - *User-provided parameters when creating an object*  \n",
    "**constructor** - *A constructor is a special method within a class that is automatically called when an object of that class is created. Its primary purpose is to initialize the object's attributes, e.g., (__init__)*"
   ]
  },
  {
   "cell_type": "code",
   "execution_count": 2,
   "metadata": {},
   "outputs": [
    {
     "name": "stdout",
     "output_type": "stream",
     "text": [
      "Toyota\n",
      "Corolla\n"
     ]
    }
   ],
   "source": [
    "#creating a sample class of car with some attributes and methods\n",
    "class Car : \n",
    "    def __init__(self, brand,model) : #function is konwn as method in class \n",
    "        self.brand = brand #instance variable\n",
    "        self.model = model\n",
    "        \n",
    "my_car = Car(\"Toyota\",\"Corolla\") # my_car is an object of the class Car\n",
    "print(my_car.brand)\n",
    "print(my_car.model)        \n"
   ]
  },
  {
   "cell_type": "markdown",
   "metadata": {},
   "source": [
    "*Problem - Add a method to the Car class that displays the full name of the car (brand, model)*"
   ]
  },
  {
   "cell_type": "code",
   "execution_count": 3,
   "metadata": {},
   "outputs": [
    {
     "name": "stdout",
     "output_type": "stream",
     "text": [
      "Car Toyota Corolla is created\n",
      "Car None Corolla is created\n"
     ]
    }
   ],
   "source": [
    "# firt way\n",
    "class Car: \n",
    "    def __init__ (self ,brand,model): \n",
    "        self.brand = brand\n",
    "        self.model = model\n",
    "        print(f\"Car {brand} {model} is created\")\n",
    "\n",
    "car_obj = Car(\"Toyota\",\"Corolla\")        \n",
    "\n",
    "# second way\n",
    "class Car: \n",
    "    def __init__ (self ,brand,model): \n",
    "        self.brand = brand\n",
    "        self.model = model\n",
    "    def car_name(self): \n",
    "        print(f\"Car {self.brand} {self.model} is created\")\n",
    "\n",
    "car_obj = Car(None,\"Corolla\") \n",
    "car_obj.car_name()"
   ]
  },
  {
   "cell_type": "markdown",
   "metadata": {},
   "source": [
    "$inheritance$ \n",
    "*Problem - Create an ElectricCar class that inherits from the Car class and has an additional attribute of battery capacity*"
   ]
  },
  {
   "cell_type": "code",
   "execution_count": 4,
   "metadata": {},
   "outputs": [
    {
     "name": "stdout",
     "output_type": "stream",
     "text": [
      "Car Tesla Model S is created\n",
      "100\n",
      "Tesla\n",
      "Car Tesla Model S is created\n"
     ]
    }
   ],
   "source": [
    "class Electric_Car(Car): #inherited class - already have the attributes of the parent class\n",
    "    def __init__(self,brand,model,battery_cap): \n",
    "        super().__init__(brand,model) #super is used to calling the parent class constructor\n",
    "        self.battery_cap = battery_cap\n",
    "        super().car_name() #calling the parent class method\n",
    "\n",
    "my_electric_car = Electric_Car(\"Tesla\",\"Model S\",100)\n",
    "print(my_electric_car.battery_cap)\n",
    "print(my_electric_car.brand)\n",
    "my_electric_car.car_name()"
   ]
  },
  {
   "cell_type": "markdown",
   "metadata": {},
   "source": [
    "$encapsulation$  \n",
    "*Problem - Modify the Car class to encapsulate the brand attribute, making it private, and add a getter method for it.*"
   ]
  },
  {
   "cell_type": "code",
   "execution_count": 5,
   "metadata": {},
   "outputs": [
    {
     "name": "stdout",
     "output_type": "stream",
     "text": [
      "Toyota\n"
     ]
    }
   ],
   "source": [
    "class Car: \n",
    "    def __init__ (self ,brand,model): \n",
    "        try: \n",
    "            self.__brand = brand # __ used to make the variable private\n",
    "            self.model = model\n",
    "        except Exception as e: \n",
    "            print(e)    \n",
    "\n",
    "    def get_brand(self): \n",
    "        return self.__brand\n",
    "    \n",
    "car_obj = Car(\"Toyota\",\"Corolla\")    \n",
    "print(car_obj.get_brand())\n",
    "# print(car_obj.__brand) #error because brand is private\n",
    "#private variable can't be accessed outside the class or by any object"
   ]
  },
  {
   "cell_type": "markdown",
   "metadata": {},
   "source": [
    "$polymorphism$  \n",
    "*Problem - Demonstrate polymorphism by defining a method fuel_type in both Car and ElectricCar classes, but with different behavior*"
   ]
  },
  {
   "cell_type": "code",
   "execution_count": 6,
   "metadata": {},
   "outputs": [
    {
     "name": "stdout",
     "output_type": "stream",
     "text": [
      "Petrol\n",
      "Electric\n"
     ]
    }
   ],
   "source": [
    "class Car: \n",
    "    def __init__ (self ,brand,model): \n",
    "        self.brand = brand\n",
    "        self.model = model\n",
    "    def fuel_type(self): \n",
    "        return(\"Petrol\")\n",
    "\n",
    "class Electric_Car(Car): #inherited class - already have the attributes of the parent class\n",
    "    def __init__(self,brand,model,battery_cap): \n",
    "        super().__init__(brand,model) #super is used to calling the parent class constructor\n",
    "        self.battery_cap = battery_cap\n",
    "    def fuel_type(self):\n",
    "        return(\"Electric\")    \n",
    "   \n",
    "# both classes accessing same attribute still method result depends on the object\n",
    "# this is known as polymorphism\n",
    "\n",
    "car_obj = Car(\"Toyota\",\"Corolla\")  \n",
    "print(car_obj.fuel_type())\n",
    "\n",
    "my_electric_car = Electric_Car(\"Tesla\",\"Model S\",100)\n",
    "print(my_electric_car.fuel_type())"
   ]
  },
  {
   "cell_type": "markdown",
   "metadata": {},
   "source": [
    "$class variable$  \n",
    "*Problem - Add a class variable to Car that keeps track of the number of cars created*"
   ]
  },
  {
   "cell_type": "code",
   "execution_count": 7,
   "metadata": {},
   "outputs": [
    {
     "name": "stdout",
     "output_type": "stream",
     "text": [
      "2\n"
     ]
    }
   ],
   "source": [
    "class Car: \n",
    "    total_car = 0 #class variable \n",
    "    def __init__ (self ,brand,model): \n",
    "        self.brand = brand\n",
    "        self.model = model\n",
    "        Car.total_car += 1 #class variable can be accessed by class name (better practice)\n",
    "\n",
    "    def fuel_type(self): \n",
    "        return(\"Petrol\")\n",
    "    \n",
    "car_obj = Car(\"Toyota\",\"Corolla\") \n",
    "car_obj1 = Car(\"Toyota\",\"rolla\")    \n",
    "\n",
    "print(Car.total_car) #class variable can be accessed by class name"
   ]
  },
  {
   "cell_type": "markdown",
   "metadata": {},
   "source": [
    "$static method$  \n",
    "*Problem - Add a static method to the Car class that returns a general description of the car.*"
   ]
  },
  {
   "cell_type": "code",
   "execution_count": null,
   "metadata": {},
   "outputs": [
    {
     "name": "stdout",
     "output_type": "stream",
     "text": [
      "cars are mean of transportation\n",
      "cars are mean of transportation\n"
     ]
    }
   ],
   "source": [
    "class Car: \n",
    "    total_car = 0 #class variable \n",
    "    def __init__ (self ,brand,model): \n",
    "        self.brand = brand\n",
    "        self.model = model\n",
    "        Car.total_car += 1 #class variable can be accessed by class name (better practice)\n",
    "\n",
    "    def fuel_type(self): \n",
    "        return(\"Petrol\")\n",
    "    \n",
    "    def general_des(self): \n",
    "        return (\"cars are mean of transportation\")\n",
    "    \n",
    "    @staticmethod # these known as decorator\n",
    "    def genral_details(): \n",
    "        return (\"cars are mean of transportation\")\n",
    "    \n",
    "\n",
    "car_obj = Car(\"Toyota\",\"Corolla\") \n",
    "#print(car_obj.general_des()) for now method is accessible by object\n",
    "#after adding static method it can be  accessed by class name and no need of self parameter\n",
    "print(Car.genral_details()) "
   ]
  },
  {
   "cell_type": "markdown",
   "metadata": {},
   "source": [
    "$property decorator$  \n",
    "*Problem - Use the property decorator in the Car class to make the model attribute read-only.*"
   ]
  },
  {
   "cell_type": "code",
   "execution_count": 9,
   "metadata": {},
   "outputs": [
    {
     "name": "stdout",
     "output_type": "stream",
     "text": [
      "Corolla\n"
     ]
    }
   ],
   "source": [
    "class Car: \n",
    "    total_car = 0 #class variable \n",
    "    def __init__ (self ,brand,model): \n",
    "        self.brand = brand\n",
    "        self.__model = model\n",
    "        Car.total_car += 1 #class variable can be accessed by class name (better practice)\n",
    "    @property \n",
    "    def model(self): #getter method\n",
    "        return self.__model    \n",
    "\n",
    "car_obj = Car(\"Toyota\",\"Corolla\") \n",
    "#car_obj.model=\"apple\" # model is changed if property is not used\n",
    "#print(car_obj.model) #Toyota\n",
    "\n",
    "print(car_obj.model) #Corolla now model is read only and can be called as method"
   ]
  },
  {
   "cell_type": "markdown",
   "metadata": {},
   "source": [
    "$Class-inheritance\\; and\\; isinstance()\\; function$  \n",
    "*Problem - Demonstrate the use of the isinstance() function to check if my_tesla is an instance of the Car and ElectricCar classes.*"
   ]
  },
  {
   "cell_type": "code",
   "execution_count": 10,
   "metadata": {},
   "outputs": [
    {
     "name": "stdout",
     "output_type": "stream",
     "text": [
      "True\n",
      "True\n"
     ]
    }
   ],
   "source": [
    "class Car: \n",
    "    def __init__ (self ,brand,model): \n",
    "        self.brand = brand\n",
    "        self.model = model\n",
    "    def fuel_type(self): \n",
    "        return(\"Petrol\")\n",
    "\n",
    "class Electric_Car(Car): #inherited class - already have the attributes of the parent class\n",
    "    def __init__(self,brand,model,battery_cap): \n",
    "        super().__init__(brand,model) #super is used to calling the parent class constructor\n",
    "        self.battery_cap = battery_cap\n",
    "    def fuel_type(self):\n",
    "        return(\"Electric\")    \n",
    "    \n",
    "my_electric_car = Electric_Car(\"Tesla\",\"Model S\",100)\n",
    "print(isinstance(my_electric_car,Electric_Car)) #True\n",
    "print(isinstance(my_electric_car,Car) )#True    "
   ]
  },
  {
   "cell_type": "markdown",
   "metadata": {},
   "source": [
    "$multiple\\;inheritance$  \n",
    "*Problem - Create two classes Battery and Engine and let ElectricCar inherit from both of them demonstrating multiple inheritance.*"
   ]
  },
  {
   "cell_type": "code",
   "execution_count": 11,
   "metadata": {},
   "outputs": [
    {
     "name": "stdout",
     "output_type": "stream",
     "text": [
      "Tesla Model S 100 mechanical\n"
     ]
    }
   ],
   "source": [
    "class Car: \n",
    "    def __init__ (self, brand, model): \n",
    "        self.brand = brand\n",
    "        self.model = model\n",
    "\n",
    "    def fuel_type(self): \n",
    "        return \"Petrol\"\n",
    "\n",
    "class Battery: \n",
    "    def __init__(self, battery_cap): \n",
    "        self.battery_cap = battery_cap\n",
    "\n",
    "class Engine: \n",
    "    def __init__(self, engine_type): \n",
    "        self.engine_type = engine_type\n",
    "\n",
    "class ElectricCar(Car, Battery, Engine): # inherited multiple classes\n",
    "    def __init__(self, brand, model, battery_cap, engine_type): \n",
    "        Car.__init__(self, brand, model) # call Car constructor\n",
    "        Battery.__init__(self, battery_cap) # call Battery constructor\n",
    "        Engine.__init__(self, engine_type) # call Engine constructor\n",
    "\n",
    "    def info(self): \n",
    "        return f\"{self.brand} {self.model} {self.battery_cap} {self.engine_type}\"\n",
    "    \n",
    "my_electric_car = ElectricCar(\"Tesla\", \"Model S\", 100, \"mechanical\")\n",
    "print(my_electric_car.info())"
   ]
  },
  {
   "cell_type": "markdown",
   "metadata": {},
   "source": []
  },
  {
   "cell_type": "code",
   "execution_count": null,
   "metadata": {},
   "outputs": [],
   "source": []
  }
 ],
 "metadata": {
  "kernelspec": {
   "display_name": "base",
   "language": "python",
   "name": "python3"
  },
  "language_info": {
   "codemirror_mode": {
    "name": "ipython",
    "version": 3
   },
   "file_extension": ".py",
   "mimetype": "text/x-python",
   "name": "python",
   "nbconvert_exporter": "python",
   "pygments_lexer": "ipython3",
   "version": "3.12.7"
  }
 },
 "nbformat": 4,
 "nbformat_minor": 2
}
