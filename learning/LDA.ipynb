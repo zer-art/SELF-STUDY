{
 "cells": [
  {
   "cell_type": "markdown",
   "id": "953ac67c",
   "metadata": {},
   "source": [
    "### LINEAR DISCRIMINANT ANALYSIS "
   ]
  },
  {
   "cell_type": "markdown",
   "id": "32ae7d9e",
   "metadata": {},
   "source": [
    "**importing liberaries**"
   ]
  },
  {
   "cell_type": "code",
   "execution_count": 60,
   "id": "19f3e6c0",
   "metadata": {},
   "outputs": [],
   "source": [
    "import pandas as pd \n",
    "import numpy as np \n",
    "import math \n",
    "import sympy\n",
    "import seaborn as sns \n",
    "import matplotlib.pyplot as plt"
   ]
  },
  {
   "cell_type": "markdown",
   "id": "f80dc0b6",
   "metadata": {},
   "source": [
    "**given dataset**"
   ]
  },
  {
   "cell_type": "code",
   "execution_count": 61,
   "id": "7f29a16e",
   "metadata": {},
   "outputs": [],
   "source": [
    "class_1 = [(4,2),(2,4),(2,3),(3,6),(4,4)]\n",
    "c1 = pd.DataFrame(class_1)\n",
    "\n",
    "class_2 = [(9,10),(6,8),(9,5),(8,7),(10,8)]\n",
    "c2 = pd.DataFrame(class_2)\n"
   ]
  },
  {
   "cell_type": "markdown",
   "id": "8e9bce37",
   "metadata": {},
   "source": [
    "**visualisation**"
   ]
  },
  {
   "cell_type": "code",
   "execution_count": 62,
   "id": "a3afce01",
   "metadata": {},
   "outputs": [
    {
     "data": {
      "image/png": "[encoded data removed]",
      "text/plain": [
       "<Figure size 500x300 with 1 Axes>"
      ]
     },
     "metadata": {},
     "output_type": "display_data"
    }
   ],
   "source": [
    "c1['class'] = 'Class 1'\n",
    "c2['class'] = 'Class 2'\n",
    "\n",
    "df = pd.concat([c1, c2])\n",
    "plt.figure(figsize=(5,3))\n",
    "\n",
    "# Create the scatter plot using Seaborn\n",
    "sns.scatterplot(x=0, y=1, hue='class', data=df, palette={'Class 1': 'green', 'Class 2': 'orange'})\n",
    "\n",
    "# Add labels and title\n",
    "plt.xlabel('Feature 1')\n",
    "plt.ylabel('Feature 2')\n",
    "plt.title('Scatter Plot of Two Classes')\n",
    "\n",
    "# Show the legend\n",
    "plt.legend()\n",
    "\n",
    "# Display the plot\n",
    "plt.grid(True)\n",
    "plt.show()"
   ]
  },
  {
   "cell_type": "markdown",
   "id": "10093a11",
   "metadata": {},
   "source": [
    "**mean of both data**"
   ]
  },
  {
   "cell_type": "code",
   "execution_count": 63,
   "id": "30bb58d6",
   "metadata": {},
   "outputs": [
    {
     "name": "stdout",
     "output_type": "stream",
     "text": [
      "x mean of class 1 : 3.0\n",
      "y mean of class 1 : 3.8\n",
      "x mean of class 1 : 8.4\n",
      "y mean of class 1 : 7.6\n"
     ]
    }
   ],
   "source": [
    "c1_xmean = c1[0].mean()\n",
    "c1_ymean = c1[1].mean()\n",
    "\n",
    "c2_xmean = c2[0].mean()\n",
    "c2_ymean = c2[1].mean()\n",
    "\n",
    "print(f\"x mean of class 1 : {c1_xmean}\")\n",
    "print(f\"y mean of class 1 : {c1_ymean}\")\n",
    "print(f\"x mean of class 1 : {c2_xmean}\")\n",
    "print(f\"y mean of class 1 : {c2_ymean}\")"
   ]
  },
  {
   "cell_type": "markdown",
   "id": "8ae54c9f",
   "metadata": {},
   "source": [
    "**compute scatter matrix within the class for class 1 (sw1)**"
   ]
  },
  {
   "cell_type": "code",
   "execution_count": 64,
   "id": "8282c99b",
   "metadata": {},
   "outputs": [
    {
     "name": "stdout",
     "output_type": "stream",
     "text": [
      "[[ 4.  -1. ]\n",
      " [-1.   8.8]]\n"
     ]
    }
   ],
   "source": [
    "c1['x-xm'] = c1[0] - c1_xmean\n",
    "c1['y-ym'] = c1[1] - c1_ymean\n",
    "\n",
    "\n",
    "\n",
    "sw1 = np.zeros((2, 2))  # Initialize a 2x2 matrix with zeros\n",
    "\n",
    "for i in range(len(c1)):\n",
    "    row = np.array([c1.loc[i, 'x-xm'], c1.loc[i, 'y-ym']]).reshape(2, 1)\n",
    "    sw1 += row.dot(row.T) \n",
    "\n",
    "print(sw1)    "
   ]
  },
  {
   "cell_type": "markdown",
   "id": "db093f30",
   "metadata": {},
   "source": [
    "**compute scatter matrix within the class for class 2 (sw2)**"
   ]
  },
  {
   "cell_type": "code",
   "execution_count": 65,
   "id": "80e9c761",
   "metadata": {},
   "outputs": [
    {
     "name": "stdout",
     "output_type": "stream",
     "text": [
      "[[ 9.2 -0.2]\n",
      " [-0.2 13.2]]\n"
     ]
    }
   ],
   "source": [
    "# Initialize a 2x2 matrix with zeros\n",
    "sw2 = np.zeros((2, 2))\n",
    "\n",
    "for i in range(len(c2)):\n",
    "    row = np.array([c2.iloc[i, 0] - c2_xmean , c2.iloc[i, 1] - c2_ymean]).reshape(2, 1)\n",
    "    sw2 += row.dot(row.T) \n",
    "\n",
    "print(sw2) "
   ]
  },
  {
   "cell_type": "markdown",
   "id": "a4165678",
   "metadata": {},
   "source": [
    "**compute sccatter matrix within class**"
   ]
  },
  {
   "cell_type": "code",
   "execution_count": 66,
   "id": "8b47b0e7",
   "metadata": {},
   "outputs": [
    {
     "data": {
      "text/plain": [
       "array([[13.2, -1.2],\n",
       "       [-1.2, 22. ]])"
      ]
     },
     "execution_count": 66,
     "metadata": {},
     "output_type": "execute_result"
    }
   ],
   "source": [
    "sw = sw1 + sw2\n",
    "sw"
   ]
  },
  {
   "cell_type": "markdown",
   "id": "571acb3f",
   "metadata": {},
   "source": [
    "**compute sccatter matrix between classes**"
   ]
  },
  {
   "cell_type": "code",
   "execution_count": 67,
   "id": "52ca6c6f",
   "metadata": {},
   "outputs": [
    {
     "data": {
      "text/plain": [
       "array([[29.16, 20.52],\n",
       "       [20.52, 14.44]])"
      ]
     },
     "execution_count": 67,
     "metadata": {},
     "output_type": "execute_result"
    }
   ],
   "source": [
    "diff = np.array([c1_xmean -c2_xmean , c1_ymean - c2_ymean]).reshape(2,1)\n",
    "\n",
    "sb = diff.dot(diff.T)\n",
    "sb\n"
   ]
  },
  {
   "cell_type": "markdown",
   "id": "849c12f7",
   "metadata": {},
   "source": [
    "**compute eigen value and eigen vector**"
   ]
  },
  {
   "cell_type": "code",
   "execution_count": 68,
   "id": "d50dbad8",
   "metadata": {},
   "outputs": [
    {
     "name": "stdout",
     "output_type": "stream",
     "text": [
      "Original Matrix:\n",
      " [[2.30531561 1.62225914]\n",
      " [1.05847176 0.7448505 ]]\n",
      "\n",
      "Eigenvalues:\n",
      " 3.050166112956811\n",
      "\n",
      "Eigenvectors:\n",
      " [ 0.90878558 -0.57549341]\n"
     ]
    }
   ],
   "source": [
    "matrix =  np.linalg.inv(sw).dot(sb) \n",
    "eigenvalues, eigenvectors = np.linalg.eig(matrix)\n",
    "\n",
    "print(\"Original Matrix:\\n\", matrix)\n",
    "print(\"\\nEigenvalues:\\n\", eigenvalues[0])\n",
    "print(\"\\nEigenvectors:\\n\", eigenvectors[0])\n"
   ]
  },
  {
   "cell_type": "code",
   "execution_count": 76,
   "id": "777ef9f1",
   "metadata": {},
   "outputs": [],
   "source": [
    "c1_new = c1[[0,1]].dot(eigenvectors[0].reshape(2,1))\n",
    "c2_new = c2[[0,1]].dot(eigenvectors[0].reshape(2,1))\n",
    "\n",
    "df = pd.concat([c1_new ,c2_new])\n"
   ]
  },
  {
   "cell_type": "code",
   "execution_count": null,
   "id": "375a121d",
   "metadata": {},
   "outputs": [],
   "source": []
  },
  {
   "cell_type": "code",
   "execution_count": null,
   "id": "727be8f6",
   "metadata": {},
   "outputs": [],
   "source": []
  }
 ],
 "metadata": {
  "kernelspec": {
   "display_name": "base",
   "language": "python",
   "name": "python3"
  },
  "language_info": {
   "codemirror_mode": {
    "name": "ipython",
    "version": 3
   },
   "file_extension": ".py",
   "mimetype": "text/x-python",
   "name": "python",
   "nbconvert_exporter": "python",
   "pygments_lexer": "ipython3",
   "version": "3.12.7"
  }
 },
 "nbformat": 4,
 "nbformat_minor": 5
}
