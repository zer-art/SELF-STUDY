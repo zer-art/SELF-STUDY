{
 "cells": [
  {
   "cell_type": "markdown",
   "id": "abbca7a7",
   "metadata": {},
   "source": [
    "# **Descriptive Statastics In Numpy**"
   ]
  },
  {
   "cell_type": "code",
   "execution_count": 94,
   "id": "f98909a4",
   "metadata": {},
   "outputs": [],
   "source": [
    "import numpy as np "
   ]
  },
  {
   "cell_type": "markdown",
   "id": "928d0842",
   "metadata": {},
   "source": [
    "**Mean**"
   ]
  },
  {
   "cell_type": "code",
   "execution_count": 95,
   "id": "e675b16d",
   "metadata": {},
   "outputs": [
    {
     "name": "stdout",
     "output_type": "stream",
     "text": [
      "[ 5.5   6.5   7.5  93.75  8.5 ]\n",
      "[2.5 3.5 4.5]\n",
      "[87.25 11.75  6.  ]\n"
     ]
    }
   ],
   "source": [
    "arr = np.array(\n",
    "    [\n",
    "        [1, 2, 3 ,343,32 ],  \n",
    "        [4, 5, 6,32,2],\n",
    "        [7, 8, 9, 0, 0],\n",
    "        [10, 11, 12, 0, 0],\n",
    "    ]\n",
    ")\n",
    "\n",
    "arr.shape\n",
    "\n",
    "print(np.mean(arr, axis=0)) # mean of each column\n",
    "\n",
    "# column wise mean of first 2 rows for first 3 columns \n",
    "print(np.mean(arr[0:2 , :3] , axis = 0)) \n",
    "\n",
    " # rowwise mean of first 3 columns till 4 columns\n",
    "print(np.mean(arr[0:3  , :4] , axis = 1))"
   ]
  },
  {
   "cell_type": "markdown",
   "id": "b9907177",
   "metadata": {},
   "source": [
    "**Median**"
   ]
  },
  {
   "cell_type": "code",
   "execution_count": 96,
   "id": "4e6303c9",
   "metadata": {},
   "outputs": [
    {
     "name": "stdout",
     "output_type": "stream",
     "text": [
      "[ 5.5  6.5  7.5 16.   1. ]\n",
      "[ 3.  5.  7. 10.]\n"
     ]
    }
   ],
   "source": [
    "print(np.median(arr[: , : ] , axis = 0 ))  # columnwise median of all rows\n",
    "print(np.median(arr[: , : ] , axis = 1 )) # rowwise median of all rows"
   ]
  },
  {
   "cell_type": "markdown",
   "id": "371b3776",
   "metadata": {},
   "source": [
    "**Correlation matrix**"
   ]
  },
  {
   "cell_type": "code",
   "execution_count": 97,
   "id": "9d5fa8a5",
   "metadata": {},
   "outputs": [
    {
     "name": "stdout",
     "output_type": "stream",
     "text": [
      "[[ 1.          0.98046537 -0.66923283 -0.67347626]\n",
      " [ 0.98046537  1.         -0.51016752 -0.51571805]\n",
      " [-0.66923283 -0.51016752  1.          0.99906848]\n",
      " [-0.67347626 -0.51571805  0.99906848  1.        ]]\n",
      "[[1. 1. 1.]\n",
      " [1. 1. 1.]\n",
      " [1. 1. 1.]]\n",
      "[[ 1.         -0.82094411]\n",
      " [-0.82094411  1.        ]]\n"
     ]
    }
   ],
   "source": [
    "print(np.corrcoef(arr))\n",
    "print(np.corrcoef(arr[ 0:3 ,0:2])) \n",
    "print(np.corrcoef(arr[:,0] , arr[ :,3]))"
   ]
  },
  {
   "cell_type": "markdown",
   "id": "7b0723ff",
   "metadata": {},
   "source": [
    "**Standard Deviation**"
   ]
  },
  {
   "cell_type": "code",
   "execution_count": 98,
   "id": "d535963b",
   "metadata": {},
   "outputs": [
    {
     "name": "stdout",
     "output_type": "stream",
     "text": [
      "73.65207057510331\n",
      "3.3541019662496847\n",
      "3.452052529534663\n"
     ]
    }
   ],
   "source": [
    "print(np.std(arr))\n",
    "print(np.std(arr[: , 1])) # standard deviation of second column \n",
    "print(np.std(arr[: , :3]))"
   ]
  },
  {
   "cell_type": "markdown",
   "id": "2cb3c489",
   "metadata": {},
   "source": [
    "**Adding arrays**"
   ]
  },
  {
   "cell_type": "code",
   "execution_count": 99,
   "id": "c3ca5dfe",
   "metadata": {},
   "outputs": [
    {
     "data": {
      "text/plain": [
       "array([[14, 16, 18],\n",
       "       [22, 24, 26],\n",
       "       [28, 30, 32],\n",
       "       [34, 36, 38]])"
      ]
     },
     "execution_count": 99,
     "metadata": {},
     "output_type": "execute_result"
    }
   ],
   "source": [
    "arr1 = np.array(\n",
    "   [ [13,14,15] ,\n",
    "    [18,19,20] ,\n",
    "    [21,22,23] ,\n",
    "    [24,25,26] ,]\n",
    ")\n",
    "\n",
    "# for addition both array must hame same dimensions\n",
    "\n",
    "arr_total = arr[:4 ,:3] + arr1\n",
    "arr_total"
   ]
  },
  {
   "cell_type": "markdown",
   "id": "c419df11",
   "metadata": {},
   "source": [
    "**Multiplying arrays**"
   ]
  },
  {
   "cell_type": "code",
   "execution_count": 100,
   "id": "908217d1",
   "metadata": {},
   "outputs": [
    {
     "name": "stdout",
     "output_type": "stream",
     "text": [
      "[[ 13  28  45]\n",
      " [ 72  95 120]\n",
      " [147 176 207]\n",
      " [240 275 312]]\n",
      "[[  13   56  105]\n",
      " [  36   95  160]\n",
      " [  63  132  207]\n",
      " [8232  800    0]]\n",
      "[[ 52  70  90]\n",
      " [ 72  95 120]\n",
      " [ 84 110 138]\n",
      " [ 96 125 156]]\n"
     ]
    }
   ],
   "source": [
    "# no of columns of first array must be equal to the no of rows of second array\n",
    "\n",
    "arr_product = arr[:4 , :3] * arr1\n",
    "arr_product1 = arr[:3 , :4].T * arr1\n",
    "arr_product2 = arr[1,:3] * arr1\n",
    "\n",
    "\n",
    "print(arr_product)\n",
    "print(arr_product1)\n",
    "print(arr_product2)\n"
   ]
  },
  {
   "cell_type": "markdown",
   "id": "fefbffe4",
   "metadata": {},
   "source": [
    "**Concatenation Of Array**"
   ]
  },
  {
   "cell_type": "code",
   "execution_count": 101,
   "id": "2154cfa5",
   "metadata": {},
   "outputs": [
    {
     "name": "stdout",
     "output_type": "stream",
     "text": [
      "[[ 1  2  3  4  5]\n",
      " [ 6  7  8  9 10]]\n",
      "[[ 6  7  8  9 10]\n",
      " [ 6  7  8  9 10]]\n",
      "[ 1  2  3  4  5  6  7  8  9 10]\n",
      "[1 2 3 4 5 1 2 3 4 5]\n"
     ]
    }
   ],
   "source": [
    "a= np.array([1,2,3,4,5])\n",
    "b= np.array([6,7,8,9,10])\n",
    "\n",
    "print(np.vstack([a,b])) \n",
    "print(np.vstack([b,b]))\n",
    "print(np.hstack([a,b]))\n",
    "print(np.hstack([a,a]))"
   ]
  },
  {
   "cell_type": "markdown",
   "id": "028e6c47",
   "metadata": {},
   "source": [
    "**Some basic functions**"
   ]
  },
  {
   "cell_type": "code",
   "execution_count": 102,
   "id": "97caef9c",
   "metadata": {},
   "outputs": [
    {
     "name": "stdout",
     "output_type": "stream",
     "text": [
      "1\n",
      "10\n",
      "1\n",
      "8.25\n",
      "2.0\n"
     ]
    }
   ],
   "source": [
    "print(a.min()) # min value in array a \n",
    "print(b.max()) # max value in array a \n",
    "print(np.vstack([a,b]).min())\n",
    "\n",
    "# variance  in array horizontal stack of a and b\n",
    "print(np.hstack([a,b]).var()) \n",
    "print(b.var())\n",
    "\n"
   ]
  },
  {
   "cell_type": "markdown",
   "id": "1df838b8",
   "metadata": {},
   "source": [
    "**Ravel function**"
   ]
  },
  {
   "cell_type": "code",
   "execution_count": 103,
   "id": "8fc918ee",
   "metadata": {},
   "outputs": [
    {
     "name": "stdout",
     "output_type": "stream",
     "text": [
      "[ 1  2  3  4  5  6  7  8  9 10]\n"
     ]
    }
   ],
   "source": [
    "# Used to flatten the array\n",
    "print(np.vstack([a,b]).ravel()) "
   ]
  },
  {
   "cell_type": "code",
   "execution_count": null,
   "id": "8241cada",
   "metadata": {},
   "outputs": [],
   "source": []
  }
 ],
 "metadata": {
  "kernelspec": {
   "display_name": "dl",
   "language": "python",
   "name": "python3"
  },
  "language_info": {
   "codemirror_mode": {
    "name": "ipython",
    "version": 3
   },
   "file_extension": ".py",
   "mimetype": "text/x-python",
   "name": "python",
   "nbconvert_exporter": "python",
   "pygments_lexer": "ipython3",
   "version": "3.12.0"
  }
 },
 "nbformat": 4,
 "nbformat_minor": 5
}
