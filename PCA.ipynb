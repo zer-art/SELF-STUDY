{
 "cells": [
  {
   "cell_type": "markdown",
   "metadata": {},
   "source": [
    "# PRINCIPLE COMPONENT ANALYSIS"
   ]
  },
  {
   "cell_type": "code",
   "execution_count": 38,
   "metadata": {},
   "outputs": [],
   "source": [
    "import numpy as np \n",
    "import pandas as pd \n",
    "import sympy as sp\n",
    "import matplotlib.pyplot as plt"
   ]
  },
  {
   "cell_type": "code",
   "execution_count": 39,
   "metadata": {},
   "outputs": [],
   "source": [
    "dataset = { \n",
    "    'x1': [2.5, 0.5, 2.2, 1.9 ,3.1, 2.3, 2.0, 1.0 ,1.5, 1.1],\n",
    "    'x2': [2.4, 0.7, 2.9, 2.2, 3.0, 2.7, 1.6, 1.1, 1.6, 0.9]\n",
    "}\n",
    "df = pd.DataFrame(dataset)"
   ]
  },
  {
   "cell_type": "markdown",
   "metadata": {},
   "source": [
    "**Step 1: Standardize the Dataset**"
   ]
  },
  {
   "cell_type": "code",
   "execution_count": 40,
   "metadata": {},
   "outputs": [
    {
     "data": {
      "text/html": [
       "<div>\n",
       "<style scoped>\n",
       "    .dataframe tbody tr th:only-of-type {\n",
       "        vertical-align: middle;\n",
       "    }\n",
       "\n",
       "    .dataframe tbody tr th {\n",
       "        vertical-align: top;\n",
       "    }\n",
       "\n",
       "    .dataframe thead th {\n",
       "        text-align: right;\n",
       "    }\n",
       "</style>\n",
       "<table border=\"1\" class=\"dataframe\">\n",
       "  <thead>\n",
       "    <tr style=\"text-align: right;\">\n",
       "      <th></th>\n",
       "      <th>x1</th>\n",
       "      <th>x2</th>\n",
       "    </tr>\n",
       "  </thead>\n",
       "  <tbody>\n",
       "    <tr>\n",
       "      <th>0</th>\n",
       "      <td>0.69</td>\n",
       "      <td>0.49</td>\n",
       "    </tr>\n",
       "    <tr>\n",
       "      <th>1</th>\n",
       "      <td>-1.31</td>\n",
       "      <td>-1.21</td>\n",
       "    </tr>\n",
       "    <tr>\n",
       "      <th>2</th>\n",
       "      <td>0.39</td>\n",
       "      <td>0.99</td>\n",
       "    </tr>\n",
       "    <tr>\n",
       "      <th>3</th>\n",
       "      <td>0.09</td>\n",
       "      <td>0.29</td>\n",
       "    </tr>\n",
       "    <tr>\n",
       "      <th>4</th>\n",
       "      <td>1.29</td>\n",
       "      <td>1.09</td>\n",
       "    </tr>\n",
       "    <tr>\n",
       "      <th>5</th>\n",
       "      <td>0.49</td>\n",
       "      <td>0.79</td>\n",
       "    </tr>\n",
       "    <tr>\n",
       "      <th>6</th>\n",
       "      <td>0.19</td>\n",
       "      <td>-0.31</td>\n",
       "    </tr>\n",
       "    <tr>\n",
       "      <th>7</th>\n",
       "      <td>-0.81</td>\n",
       "      <td>-0.81</td>\n",
       "    </tr>\n",
       "    <tr>\n",
       "      <th>8</th>\n",
       "      <td>-0.31</td>\n",
       "      <td>-0.31</td>\n",
       "    </tr>\n",
       "    <tr>\n",
       "      <th>9</th>\n",
       "      <td>-0.71</td>\n",
       "      <td>-1.01</td>\n",
       "    </tr>\n",
       "  </tbody>\n",
       "</table>\n",
       "</div>"
      ],
      "text/plain": [
       "     x1    x2\n",
       "0  0.69  0.49\n",
       "1 -1.31 -1.21\n",
       "2  0.39  0.99\n",
       "3  0.09  0.29\n",
       "4  1.29  1.09\n",
       "5  0.49  0.79\n",
       "6  0.19 -0.31\n",
       "7 -0.81 -0.81\n",
       "8 -0.31 -0.31\n",
       "9 -0.71 -1.01"
      ]
     },
     "execution_count": 40,
     "metadata": {},
     "output_type": "execute_result"
    }
   ],
   "source": [
    "mean = np.mean(df, axis=0)\n",
    "df = df - mean\n",
    "df"
   ]
  },
  {
   "cell_type": "markdown",
   "metadata": {},
   "source": [
    "**Step 2: Find the Covariance Matrix**\n",
    "\n",
    "$$ C = \\frac{ X \\cdot X^T}{N - 1} $$\n",
    "\n",
    "\n",
    "where, X is the Dataset Matrix (In this numerical, it is a 10 X 2 matrix) \n",
    "is the transpose of the X (In this numerical, it is a 2 X 10 matrix) and N\n",
    " is the number of elements = 1"
   ]
  },
  {
   "cell_type": "code",
   "execution_count": 41,
   "metadata": {},
   "outputs": [
    {
     "data": {
      "text/plain": [
       "array([[0.61655556, 0.61544444],\n",
       "       [0.61544444, 0.71655556]])"
      ]
     },
     "execution_count": 41,
     "metadata": {},
     "output_type": "execute_result"
    }
   ],
   "source": [
    "c= np.dot(df.T,df)/9\n",
    "c"
   ]
  },
  {
   "cell_type": "markdown",
   "metadata": {},
   "source": [
    "**Step 3: Find the EigenValues**\n",
    "$$|C - I| = 0$$"
   ]
  },
  {
   "cell_type": "code",
   "execution_count": 42,
   "metadata": {},
   "outputs": [
    {
     "name": "stdout",
     "output_type": "stream",
     "text": [
      "λ1 =  0.04908339893832736\n",
      "λ2 =  1.2840277121727839\n"
     ]
    }
   ],
   "source": [
    "λ = np.linalg.eig(c)[0]\n",
    "\n",
    "#λ  =sp.Matrix(λ)\n",
    "λ1 = λ [0]\n",
    "λ2 = λ [1]\n",
    "\n",
    "print(\"λ1 = \",λ1)\n",
    "print(\"λ2 = \",λ2)"
   ]
  },
  {
   "cell_type": "markdown",
   "metadata": {},
   "source": [
    "*Sum of eigenvalues (λ1) and (λ2) = 1.28403 + 0.0490834 = 1.33 =  Total\n",
    " Variance {Majority of variance comes from }*"
   ]
  },
  {
   "cell_type": "code",
   "execution_count": 43,
   "metadata": {},
   "outputs": [
    {
     "data": {
      "text/plain": [
       "np.float64(1.3331111111111111)"
      ]
     },
     "execution_count": 43,
     "metadata": {},
     "output_type": "execute_result"
    }
   ],
   "source": [
    "total_var = np.sum(λ)\n",
    "total_var"
   ]
  },
  {
   "cell_type": "markdown",
   "metadata": {},
   "source": [
    "**Step 3 : find the eigenvectors from the eigenvalues**\n",
    "\n",
    "*we will find the eigenvectors for the eigenvalue 1.28403 by using\n",
    " the equation C⋅X=λ⋅X*"
   ]
  },
  {
   "cell_type": "code",
   "execution_count": 44,
   "metadata": {},
   "outputs": [
    {
     "name": "stdout",
     "output_type": "stream",
     "text": [
      "[-0.73517866  0.6778734 ]\n",
      "[0.6778734  0.73517866]\n"
     ]
    }
   ],
   "source": [
    "def find_eigenvector(correlation_matrix, eigenvalue):\n",
    "    try:\n",
    "        a, b = correlation_matrix[0, 0], correlation_matrix[0, 1]\n",
    "        c, d = correlation_matrix[1, 0], correlation_matrix[1, 1]\n",
    "\n",
    "        # Solve for the relationship between x and y\n",
    "        if abs(a - eigenvalue) < 1e-10: #check to prevent divide by 0 errors.\n",
    "            y = 1\n",
    "            x = 0\n",
    "        else:\n",
    "            y = 1\n",
    "            x = (b) / (eigenvalue - a) * y\n",
    "\n",
    "        # Create the initial eigenvector\n",
    "        eigenvector = np.array([x, y])\n",
    "\n",
    "        # Normalize the eigenvector\n",
    "        magnitude = np.linalg.norm(eigenvector)\n",
    "        normalized_eigenvector = eigenvector / magnitude\n",
    "\n",
    "        return normalized_eigenvector\n",
    "\n",
    "    except Exception as e:\n",
    "        print(f\"Error calculating eigenvector: {e}\")\n",
    "        return None\n",
    "    \n",
    "\n",
    "print(find_eigenvector(c, λ1))    \n",
    "print(find_eigenvector(c, λ2))\n",
    "\n",
    "# second method\n",
    "#eigenvalues, eigenvectors = np.linalg.eig(c)"
   ]
  },
  {
   "cell_type": "markdown",
   "metadata": {},
   "source": [
    "**Step 4 : Multiply with principle component**\n",
    "\n",
    "*principle component is the eigen vector with high eigenvalue*"
   ]
  },
  {
   "cell_type": "code",
   "execution_count": 45,
   "metadata": {},
   "outputs": [
    {
     "data": {
      "text/plain": [
       "array([ 0.82797019, -1.77758033,  0.99219749,  0.27421042,  1.67580142,\n",
       "        0.9129491 , -0.09910944, -1.14457216, -0.43804614, -1.22382056])"
      ]
     },
     "execution_count": 45,
     "metadata": {},
     "output_type": "execute_result"
    }
   ],
   "source": [
    "principle_Component = find_eigenvector(c, λ2)\n",
    "reduce_data = np.dot(df, principle_Component)\n",
    "reduce_data"
   ]
  },
  {
   "cell_type": "markdown",
   "metadata": {},
   "source": [
    "# second method with the plot"
   ]
  },
  {
   "cell_type": "code",
   "execution_count": 47,
   "metadata": {},
   "outputs": [
    {
     "name": "stdout",
     "output_type": "stream",
     "text": [
      "Explained Variance Ratio: [0.96318131 0.03681869]\n",
      "Principal Components:\n",
      " [[-0.6778734  -0.73517866]\n",
      " [-0.73517866  0.6778734 ]]\n",
      "Transformed Data:\n",
      " [[-0.82797019 -0.17511531]\n",
      " [ 1.77758033  0.14285723]\n",
      " [-0.99219749  0.38437499]\n",
      " [-0.27421042  0.13041721]\n",
      " [-1.67580142 -0.20949846]\n",
      " [-0.9129491   0.17528244]\n",
      " [ 0.09910944 -0.3498247 ]\n",
      " [ 1.14457216  0.04641726]\n",
      " [ 0.43804614  0.01776463]\n",
      " [ 1.22382056 -0.16267529]]\n"
     ]
    },
    {
     "data": {
      "image/png": "[encoded data removed]",
      "text/plain": [
       "<Figure size 1200x500 with 2 Axes>"
      ]
     },
     "metadata": {},
     "output_type": "display_data"
    },
    {
     "data": {
      "image/png": "[encoded data removed]",
      "text/plain": [
       "<Figure size 600x600 with 1 Axes>"
      ]
     },
     "metadata": {},
     "output_type": "display_data"
    }
   ],
   "source": [
    "# Dataset\n",
    "x1 = np.array([2.5, 0.5, 2.2, 1.9, 3.1, 2.3, 2.0, 1.0, 1.5, 1.1])\n",
    "x2 = np.array([2.4, 0.7, 2.9, 2.2, 3.0, 2.7, 1.6, 1.1, 1.6, 0.9])\n",
    "\n",
    "# Combine into a single data matrix\n",
    "data = np.array([x1, x2]).T\n",
    "\n",
    "# Center the data\n",
    "mean = np.mean(data, axis=0)\n",
    "centered_data = data - mean\n",
    "\n",
    "# Calculate the covariance matrix\n",
    "covariance_matrix = np.cov(centered_data.T)\n",
    "\n",
    "# Calculate eigenvalues and eigenvectors\n",
    "eigenvalues, eigenvectors = np.linalg.eig(covariance_matrix)\n",
    "\n",
    "# Sort eigenvalues and eigenvectors in descending order\n",
    "sorted_indices = np.argsort(eigenvalues)[::-1]\n",
    "sorted_eigenvalues = eigenvalues[sorted_indices]\n",
    "sorted_eigenvectors = eigenvectors[:, sorted_indices]\n",
    "\n",
    "# Explained variance ratio\n",
    "total_variance = np.sum(sorted_eigenvalues)\n",
    "explained_variance_ratio = sorted_eigenvalues / total_variance\n",
    "print(\"Explained Variance Ratio:\", explained_variance_ratio)\n",
    "\n",
    "# Principal components\n",
    "principal_components = sorted_eigenvectors\n",
    "print(\"Principal Components:\\n\", principal_components)\n",
    "\n",
    "# Transform the data to the principal component space\n",
    "transformed_data = np.dot(centered_data, principal_components)\n",
    "print(\"Transformed Data:\\n\", transformed_data)\n",
    "\n",
    "# Visualize the original and transformed data\n",
    "plt.figure(figsize=(12, 5))\n",
    "\n",
    "plt.subplot(1, 2, 1)\n",
    "plt.scatter(x1, x2)\n",
    "plt.xlabel(\"x1\")\n",
    "plt.ylabel(\"x2\")\n",
    "plt.title(\"Original Data\")\n",
    "plt.grid(True)\n",
    "\n",
    "plt.subplot(1, 2, 2)\n",
    "plt.scatter(transformed_data[:, 0], transformed_data[:, 1])\n",
    "plt.xlabel(\"Principal Component 1\")\n",
    "plt.ylabel(\"Principal Component 2\")\n",
    "plt.title(\"Transformed Data (PCA)\")\n",
    "plt.grid(True)\n",
    "\n",
    "plt.tight_layout()\n",
    "plt.show()\n",
    "\n",
    "# Visualize the principal components as vectors on the original data\n",
    "plt.figure(figsize=(6, 6))\n",
    "plt.scatter(x1, x2)\n",
    "plt.xlabel(\"x1\")\n",
    "plt.ylabel(\"x2\")\n",
    "plt.title(\"Principal Components Visualization\")\n",
    "plt.grid(True)\n",
    "\n",
    "for length, vector in zip(sorted_eigenvalues, sorted_eigenvectors.T): # Transpose to get vectors as rows\n",
    "    v = vector * 3 * np.sqrt(length)  # Scale the vectors for better visualization\n",
    "    plt.arrow(mean[0], mean[1], v[0], v[1], head_width=0.1, head_length=0.2, color='red')\n",
    "\n",
    "plt.show()"
   ]
  },
  {
   "cell_type": "code",
   "execution_count": null,
   "metadata": {},
   "outputs": [],
   "source": []
  }
 ],
 "metadata": {
  "kernelspec": {
   "display_name": "Python 3",
   "language": "python",
   "name": "python3"
  },
  "language_info": {
   "codemirror_mode": {
    "name": "ipython",
    "version": 3
   },
   "file_extension": ".py",
   "mimetype": "text/x-python",
   "name": "python",
   "nbconvert_exporter": "python",
   "pygments_lexer": "ipython3",
   "version": "3.13.2"
  }
 },
 "nbformat": 4,
 "nbformat_minor": 2
}
