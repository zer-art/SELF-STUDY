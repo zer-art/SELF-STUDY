{
 "cells": [
  {
   "cell_type": "code",
   "execution_count": 2,
   "metadata": {},
   "outputs": [],
   "source": [
    "from typing import TypedDict\n",
    "class PortfolioState(TypedDict): \n",
    "    amount_usd : float\n",
    "    total_usd : float \n",
    "    total_inr : float"
   ]
  },
  {
   "cell_type": "code",
   "execution_count": 3,
   "id": "1047316b",
   "metadata": {},
   "outputs": [],
   "source": [
    "def calc_total_usd(state: PortfolioState) -> PortfolioState:\n",
    "    state[\"total_usd\"] = state[\"amount_usd\"] * 1.08  \n",
    "    return state"
   ]
  },
  {
   "cell_type": "code",
   "execution_count": 4,
   "id": "12793699",
   "metadata": {},
   "outputs": [],
   "source": [
    "def calc_total_inr (state: PortfolioState) -> PortfolioState:\n",
    "    state[\"total_inr\"] = state[\"total_usd\"] * 85.0  \n",
    "    return state"
   ]
  },
  {
   "cell_type": "code",
   "execution_count": 5,
   "id": "52f19f16",
   "metadata": {},
   "outputs": [],
   "source": [
    "from langgraph.graph import StateGraph , START , END\n",
    "\n",
    "builder = StateGraph(PortfolioState)\n",
    "builder.add_node(\"calc_total_usd\", calc_total_usd)\n",
    "builder.add_node(\"conv_to_inr\", calc_total_inr)\n",
    "\n",
    "builder.add_edge(START, \"calc_total_usd\" )\n",
    "builder.add_edge(\"calc_total_usd\", \"conv_to_inr\")\n",
    "builder.add_edge(\"conv_to_inr\", END)\n",
    "\n",
    "graph = builder.compile()"
   ]
  },
  {
   "cell_type": "code",
   "execution_count": 6,
   "id": "bd2e28bf",
   "metadata": {},
   "outputs": [
    {
     "data": {
      "image/png": "[encoded data removed]",
      "text/plain": [
       "<IPython.core.display.Image object>"
      ]
     },
     "metadata": {},
     "output_type": "display_data"
    }
   ],
   "source": [
    "from IPython.display import Image , display\n",
    "\n",
    "display(Image(graph.get_graph().draw_mermaid_png()))"
   ]
  },
  {
   "cell_type": "code",
   "execution_count": 7,
   "id": "b7b27c9c",
   "metadata": {},
   "outputs": [
    {
     "data": {
      "text/plain": [
       "{'amount_usd': 1000.0, 'total_usd': 1080.0, 'total_inr': 91800.0}"
      ]
     },
     "execution_count": 7,
     "metadata": {},
     "output_type": "execute_result"
    }
   ],
   "source": [
    "graph.invoke({\"amount_usd\": 1000.0})"
   ]
  }
 ],
 "metadata": {
  "kernelspec": {
   "display_name": "ml",
   "language": "python",
   "name": "python3"
  },
  "language_info": {
   "codemirror_mode": {
    "name": "ipython",
    "version": 3
   },
   "file_extension": ".py",
   "mimetype": "text/x-python",
   "name": "python",
   "nbconvert_exporter": "python",
   "pygments_lexer": "ipython3",
   "version": "3.10.18"
  }
 },
 "nbformat": 4,
 "nbformat_minor": 5
}
