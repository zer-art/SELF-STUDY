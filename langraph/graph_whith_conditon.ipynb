{
 "cells": [
  {
   "cell_type": "code",
   "execution_count": 19,
   "id": "956c577d",
   "metadata": {},
   "outputs": [],
   "source": [
    "from typing import TypedDict , Literal\n",
    "\n",
    "class PortfolioState(TypedDict): \n",
    "    amount_usd: float\n",
    "    total_usd : float\n",
    "    target_currency : Literal[\"INR\", \"EUR\"]\n",
    "    total : float"
   ]
  },
  {
   "cell_type": "code",
   "execution_count": 20,
   "id": "f1a8caee",
   "metadata": {},
   "outputs": [],
   "source": [
    "def calc_total_usd(state: PortfolioState) -> PortfolioState:\n",
    "    state[\"total_usd\"] = state[\"amount_usd\"] * 1.08  \n",
    "    return state"
   ]
  },
  {
   "cell_type": "code",
   "execution_count": 21,
   "id": "1cb3f586",
   "metadata": {},
   "outputs": [],
   "source": [
    "def calc_total_eur (state: PortfolioState) -> PortfolioState:\n",
    "    state[\"total_eur\"] = state[\"total_usd\"] * 0.95 \n",
    "    return state"
   ]
  },
  {
   "cell_type": "code",
   "execution_count": 22,
   "id": "6137eb0e",
   "metadata": {},
   "outputs": [],
   "source": [
    "def calc_total_inr (state: PortfolioState) -> PortfolioState:\n",
    "    state[\"total_inr\"] = state[\"total_usd\"] * 85.0  \n",
    "    return state"
   ]
  },
  {
   "cell_type": "code",
   "execution_count": 23,
   "id": "435d68e5",
   "metadata": {},
   "outputs": [],
   "source": [
    "def conversion_choice(state: PortfolioState) -> str:\n",
    "    return state[\"target_currency\"]"
   ]
  },
  {
   "cell_type": "code",
   "execution_count": 24,
   "id": "5f451936",
   "metadata": {},
   "outputs": [],
   "source": [
    "from langgraph.graph import StateGraph , START , END\n",
    "\n",
    "builder = StateGraph(PortfolioState)\n",
    "builder.add_node(\"calc_total_usd\", calc_total_usd)\n",
    "builder.add_node(\"conv_to_inr\", calc_total_inr)\n",
    "builder.add_node(\"conv_to_eur\", calc_total_eur)\n",
    "\n",
    "builder.add_edge(START, \"calc_total_usd\" )\n",
    "builder.add_conditional_edges(\"calc_total_usd\",conversion_choice , \n",
    "    {\n",
    "    \"INR\": \"conv_to_inr\",\n",
    "    \"EUR\": \"conv_to_eur\"\n",
    "})\n",
    "builder.add_edge([\"conv_to_inr\" , \"conv_to_eur\"], END)\n",
    "graph = builder.compile()"
   ]
  },
  {
   "cell_type": "code",
   "execution_count": 25,
   "id": "ab8d1064",
   "metadata": {},
   "outputs": [
    {
     "data": {
      "image/png": "[encoded data removed]",
      "text/plain": [
       "<IPython.core.display.Image object>"
      ]
     },
     "metadata": {},
     "output_type": "display_data"
    }
   ],
   "source": [
    "from IPython.display import Image , display\n",
    "\n",
    "display(Image(graph.get_graph().draw_mermaid_png()))"
   ]
  },
  {
   "cell_type": "code",
   "execution_count": 26,
   "id": "962b85e3",
   "metadata": {},
   "outputs": [
    {
     "data": {
      "text/plain": [
       "{'amount_usd': 1000.0, 'total_usd': 1080.0, 'target_currency': 'INR'}"
      ]
     },
     "execution_count": 26,
     "metadata": {},
     "output_type": "execute_result"
    }
   ],
   "source": [
    "graph.invoke(\n",
    "    {\n",
    "        \"amount_usd\": 1000.0,\n",
    "        \"target_currency\": \"INR\"\n",
    "    }\n",
    ")"
   ]
  }
 ],
 "metadata": {
  "kernelspec": {
   "display_name": "ml",
   "language": "python",
   "name": "python3"
  },
  "language_info": {
   "codemirror_mode": {
    "name": "ipython",
    "version": 3
   },
   "file_extension": ".py",
   "mimetype": "text/x-python",
   "name": "python",
   "nbconvert_exporter": "python",
   "pygments_lexer": "ipython3",
   "version": "3.10.18"
  }
 },
 "nbformat": 4,
 "nbformat_minor": 5
}
