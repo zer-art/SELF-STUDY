{
 "cells": [
  {
   "cell_type": "code",
   "execution_count": 4,
   "id": "0441870a",
   "metadata": {},
   "outputs": [
    {
     "name": "stderr",
     "output_type": "stream",
     "text": [
      "2025-05-24 13:36:23.328273: I tensorflow/core/platform/cpu_feature_guard.cc:210] This TensorFlow binary is optimized to use available CPU instructions in performance-critical operations.\n",
      "To enable the following instructions: SSE4.1 SSE4.2 AVX AVX2 FMA, in other operations, rebuild TensorFlow with the appropriate compiler flags.\n"
     ]
    }
   ],
   "source": [
    "import tensorflow as tf"
   ]
  },
  {
   "cell_type": "code",
   "execution_count": 5,
   "id": "f02aaa93",
   "metadata": {},
   "outputs": [],
   "source": [
    "daily_sales_num = [22 , 23 , 23 , -124 , 35 ,43  , -12 , 12]"
   ]
  },
  {
   "cell_type": "code",
   "execution_count": 6,
   "id": "e94da43a",
   "metadata": {},
   "outputs": [
    {
     "data": {
      "text/plain": [
       "<_TensorSliceDataset element_spec=TensorSpec(shape=(), dtype=tf.int32, name=None)>"
      ]
     },
     "execution_count": 6,
     "metadata": {},
     "output_type": "execute_result"
    }
   ],
   "source": [
    "tf_dataset = tf.data.Dataset.from_tensor_slices(daily_sales_num)\n",
    "tf_dataset"
   ]
  },
  {
   "cell_type": "code",
   "execution_count": 8,
   "id": "e95dd9f3",
   "metadata": {},
   "outputs": [
    {
     "name": "stdout",
     "output_type": "stream",
     "text": [
      "22\n",
      "23\n",
      "23\n",
      "-124\n",
      "35\n",
      "43\n",
      "-12\n",
      "12\n",
      "22\n",
      "23\n",
      "23\n",
      "-124\n",
      "35\n",
      "43\n",
      "-12\n",
      "12\n"
     ]
    },
    {
     "name": "stderr",
     "output_type": "stream",
     "text": [
      "2025-05-24 13:38:55.111303: I tensorflow/core/framework/local_rendezvous.cc:405] Local rendezvous is aborting with status: OUT_OF_RANGE: End of sequence\n"
     ]
    }
   ],
   "source": [
    "for sales in tf_dataset: \n",
    "    print(sales.numpy())\n",
    "\n",
    "for sales in tf_dataset.as_numpy_iterator(): \n",
    "    print(sales)"
   ]
  },
  {
   "cell_type": "code",
   "execution_count": 9,
   "id": "cb1d6dbd",
   "metadata": {},
   "outputs": [
    {
     "name": "stdout",
     "output_type": "stream",
     "text": [
      "22\n",
      "23\n",
      "23\n"
     ]
    },
    {
     "name": "stderr",
     "output_type": "stream",
     "text": [
      "2025-05-24 13:39:37.598375: I tensorflow/core/framework/local_rendezvous.cc:405] Local rendezvous is aborting with status: OUT_OF_RANGE: End of sequence\n"
     ]
    }
   ],
   "source": [
    "for sales in tf_dataset.take(3): \n",
    "    print(sales.numpy())"
   ]
  },
  {
   "cell_type": "code",
   "execution_count": 10,
   "id": "d5e63e9a",
   "metadata": {},
   "outputs": [
    {
     "name": "stdout",
     "output_type": "stream",
     "text": [
      "22\n",
      "23\n",
      "23\n",
      "35\n",
      "43\n",
      "12\n"
     ]
    }
   ],
   "source": [
    "tf_dataset = tf_dataset.filter(lambda x : x >0)\n",
    "for sales in tf_dataset.as_numpy_iterator(): \n",
    "    print(sales)"
   ]
  },
  {
   "cell_type": "code",
   "execution_count": 11,
   "id": "3561ae01",
   "metadata": {},
   "outputs": [
    {
     "name": "stdout",
     "output_type": "stream",
     "text": [
      "1584\n",
      "1656\n",
      "1656\n",
      "2520\n",
      "3096\n",
      "864\n"
     ]
    }
   ],
   "source": [
    "tf_dataset = tf_dataset.map(lambda x : x*72)\n",
    "for sales in tf_dataset.as_numpy_iterator(): \n",
    "    print(sales)"
   ]
  },
  {
   "cell_type": "code",
   "execution_count": 13,
   "id": "279e763b",
   "metadata": {},
   "outputs": [
    {
     "name": "stdout",
     "output_type": "stream",
     "text": [
      "2520\n",
      "1656\n",
      "1656\n",
      "1584\n",
      "3096\n",
      "864\n"
     ]
    },
    {
     "name": "stderr",
     "output_type": "stream",
     "text": [
      "2025-05-24 13:42:22.970982: I tensorflow/core/framework/local_rendezvous.cc:405] Local rendezvous is aborting with status: OUT_OF_RANGE: End of sequence\n"
     ]
    }
   ],
   "source": [
    "tf_dataset = tf_dataset.shuffle(3)\n",
    "for sales in tf_dataset.as_numpy_iterator(): \n",
    "    print(sales)"
   ]
  },
  {
   "cell_type": "code",
   "execution_count": 14,
   "id": "dc4ec076",
   "metadata": {},
   "outputs": [
    {
     "name": "stdout",
     "output_type": "stream",
     "text": [
      "[1656 3096]\n",
      "[1656 2520]\n",
      "[ 864 1584]\n"
     ]
    }
   ],
   "source": [
    "for sales_batch in tf_dataset.batch(2): \n",
    "    print(sales_batch.numpy())"
   ]
  },
  {
   "cell_type": "code",
   "execution_count": 16,
   "id": "58d406da",
   "metadata": {},
   "outputs": [
    {
     "name": "stdout",
     "output_type": "stream",
     "text": [
      "[1656 1656]\n",
      "[3096 1584]\n",
      "[ 864 2520]\n"
     ]
    }
   ],
   "source": [
    "tf_dataset = tf.data.Dataset.from_tensor_slices(daily_sales_num)\n",
    "\n",
    "tf_dataset = tf_dataset.filter(lambda x : x>0).map(lambda y: y*72).shuffle(3).batch(2)\n",
    "for sales in tf_dataset.as_numpy_iterator(): \n",
    "    print(sales)"
   ]
  },
  {
   "cell_type": "code",
   "execution_count": null,
   "id": "ed47a052",
   "metadata": {},
   "outputs": [],
   "source": []
  }
 ],
 "metadata": {
  "kernelspec": {
   "display_name": "base",
   "language": "python",
   "name": "python3"
  },
  "language_info": {
   "codemirror_mode": {
    "name": "ipython",
    "version": 3
   },
   "file_extension": ".py",
   "mimetype": "text/x-python",
   "name": "python",
   "nbconvert_exporter": "python",
   "pygments_lexer": "ipython3",
   "version": "3.11.11"
  }
 },
 "nbformat": 4,
 "nbformat_minor": 5
}
