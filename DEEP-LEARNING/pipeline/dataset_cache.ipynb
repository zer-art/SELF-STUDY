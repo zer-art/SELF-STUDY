{
 "cells": [
  {
   "cell_type": "code",
   "execution_count": 33,
   "id": "c0db5ea5",
   "metadata": {},
   "outputs": [],
   "source": [
    "import tensorflow as tf \n",
    "import time "
   ]
  },
  {
   "cell_type": "code",
   "execution_count": 34,
   "id": "79e2e5a7",
   "metadata": {},
   "outputs": [
    {
     "data": {
      "text/plain": [
       "'2.18.1'"
      ]
     },
     "execution_count": 34,
     "metadata": {},
     "output_type": "execute_result"
    }
   ],
   "source": [
    "tf.__version__"
   ]
  },
  {
   "cell_type": "code",
   "execution_count": 35,
   "id": "8138d913",
   "metadata": {},
   "outputs": [],
   "source": [
    "from numpy import dtype\n",
    "\n",
    "\n",
    "class FileDataset(tf.data.Dataset): \n",
    "    def read_files_in_batches(num_samples): \n",
    "        time.sleep(0.03)\n",
    "        for sample_idx in range(num_samples): \n",
    "            time.sleep(0.015)\n",
    "            yield (sample_idx ,)\n",
    "\n",
    "    def __new__ (cls , num_samples = 3): \n",
    "        return tf.data.Dataset.from_generator(\n",
    "            cls.read_files_in_batches,\n",
    "            output_signature = tf.TensorSpec(\n",
    "                shape =(1,) ,dtype = tf.int64 ), args = (num_samples,)\n",
    "            )\n",
    "        "
   ]
  },
  {
   "cell_type": "code",
   "execution_count": 36,
   "id": "a7775bcb",
   "metadata": {},
   "outputs": [],
   "source": [
    "def benchmark (dataset , num_epochs = 2):\n",
    "    for epoch_num in range(num_epochs ): \n",
    "        for sample in dataset : \n",
    "            time.sleep(.01)\n"
   ]
  },
  {
   "cell_type": "code",
   "execution_count": 37,
   "id": "307c06c0",
   "metadata": {},
   "outputs": [
    {
     "name": "stdout",
     "output_type": "stream",
     "text": [
      "328 ms ± 8.94 ms per loop (mean ± std. dev. of 7 runs, 1 loop each)\n"
     ]
    }
   ],
   "source": [
    "%%timeit\n",
    "\n",
    "benchmark(FileDataset())"
   ]
  },
  {
   "cell_type": "code",
   "execution_count": 38,
   "id": "e3567d52",
   "metadata": {},
   "outputs": [
    {
     "name": "stdout",
     "output_type": "stream",
     "text": [
      "321 ms ± 7.68 ms per loop (mean ± std. dev. of 7 runs, 1 loop each)\n"
     ]
    }
   ],
   "source": [
    "%%timeit\n",
    "\n",
    "benchmark(FileDataset().prefetch(1))"
   ]
  },
  {
   "cell_type": "code",
   "execution_count": 39,
   "id": "107e9205",
   "metadata": {},
   "outputs": [
    {
     "name": "stdout",
     "output_type": "stream",
     "text": [
      "320 ms ± 6.12 ms per loop (mean ± std. dev. of 7 runs, 1 loop each)\n"
     ]
    }
   ],
   "source": [
    "%%timeit\n",
    "\n",
    "benchmark(FileDataset().prefetch(tf.data.AUTOTUNE))"
   ]
  },
  {
   "cell_type": "code",
   "execution_count": null,
   "id": "252307a0",
   "metadata": {},
   "outputs": [],
   "source": []
  }
 ],
 "metadata": {
  "kernelspec": {
   "display_name": "base",
   "language": "python",
   "name": "python3"
  },
  "language_info": {
   "codemirror_mode": {
    "name": "ipython",
    "version": 3
   },
   "file_extension": ".py",
   "mimetype": "text/x-python",
   "name": "python",
   "nbconvert_exporter": "python",
   "pygments_lexer": "ipython3",
   "version": "3.11.11"
  }
 },
 "nbformat": 4,
 "nbformat_minor": 5
}
