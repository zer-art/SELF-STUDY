{
 "cells": [
  {
   "cell_type": "markdown",
   "id": "e5c6c1de",
   "metadata": {},
   "source": [
    "## **Working of word embedding**"
   ]
  },
  {
   "cell_type": "code",
   "execution_count": 1,
   "id": "e5656511",
   "metadata": {},
   "outputs": [
    {
     "data": {
      "text/plain": [
       "[[7, 14, 12, 18],\n",
       " [7, 14, 12, 24],\n",
       " [20, 3, 7, 14],\n",
       " [20, 27, 7, 14],\n",
       " [29, 22, 25],\n",
       " [22, 1]]"
      ]
     },
     "execution_count": 1,
     "metadata": {},
     "output_type": "execute_result"
    }
   ],
   "source": [
    "import numpy as np\n",
    "import pandas as pd \n",
    "from tensorflow.keras.preprocessing.text import one_hot\n",
    "from tensorflow.keras.preprocessing.sequence import pad_sequences\n",
    "from tensorflow.keras.models import Sequential \n",
    "from tensorflow.keras.layers import Dense, Embedding ,Flatten\n",
    "\n",
    "\n",
    "\n",
    "reviews = { \n",
    "    'review': ['This movie was great', 'This movie was terrible', 'I love this movie', 'I hate this movie' , 'will go ahead' , 'need imporvement'],\n",
    "    'sentiment': [1, 0, 1, 0, 1, 0]\n",
    "}\n",
    "\n",
    "vocab_size = 30 \n",
    "encoded_reviews = []\n",
    "for i in reviews['review']:\n",
    "    encoded_reviews.append(one_hot(i, vocab_size)) \n",
    "\n",
    "encoded_reviews"
   ]
  },
  {
   "cell_type": "code",
   "execution_count": 2,
   "id": "238fece3",
   "metadata": {},
   "outputs": [
    {
     "data": {
      "text/plain": [
       "array([[ 7, 14, 12, 18],\n",
       "       [ 7, 14, 12, 24],\n",
       "       [20,  3,  7, 14],\n",
       "       [20, 27,  7, 14],\n",
       "       [29, 22, 25,  0],\n",
       "       [22,  1,  0,  0]])"
      ]
     },
     "execution_count": 2,
     "metadata": {},
     "output_type": "execute_result"
    }
   ],
   "source": [
    "max_length = 4 \n",
    "padded_reviews = pad_sequences(encoded_reviews, maxlen=max_length, padding='post')\n",
    "padded_reviews = np.array(padded_reviews)\n",
    "padded_reviews"
   ]
  },
  {
   "cell_type": "code",
   "execution_count": 3,
   "id": "027dc3a6",
   "metadata": {},
   "outputs": [
    {
     "name": "stderr",
     "output_type": "stream",
     "text": [
      "c:\\Users\\13zer\\anaconda3\\Lib\\site-packages\\keras\\src\\layers\\core\\embedding.py:90: UserWarning: Argument `input_length` is deprecated. Just remove it.\n",
      "  warnings.warn(\n"
     ]
    }
   ],
   "source": [
    "embedding_vector_length = 8\n",
    "\n",
    "model = Sequential()\n",
    "    \n",
    "model.add(Embedding(vocab_size, embedding_vector_length, input_length=max_length , name = \"embedding\"))\n",
    "model.add(Flatten())\n",
    "model.add(Dense(1, activation='sigmoid'))\n",
    "\n",
    "x = padded_reviews \n",
    "y = np.array(reviews['sentiment']) \n",
    "        "
   ]
  },
  {
   "cell_type": "code",
   "execution_count": 4,
   "id": "3cfd1eae",
   "metadata": {},
   "outputs": [
    {
     "name": "stdout",
     "output_type": "stream",
     "text": [
      "\u001b[1m1/1\u001b[0m \u001b[32m━━━━━━━━━━━━━━━━━━━━\u001b[0m\u001b[37m\u001b[0m \u001b[1m0s\u001b[0m 423ms/step - accuracy: 1.0000 - loss: 0.6118\n"
     ]
    },
    {
     "data": {
      "text/html": [
       "<pre style=\"white-space:pre;overflow-x:auto;line-height:normal;font-family:Menlo,'DejaVu Sans Mono',consolas,'Courier New',monospace\"><span style=\"font-weight: bold\">Model: \"sequential\"</span>\n",
       "</pre>\n"
      ],
      "text/plain": [
       "\u001b[1mModel: \"sequential\"\u001b[0m\n"
      ]
     },
     "metadata": {},
     "output_type": "display_data"
    },
    {
     "data": {
      "text/html": [
       "<pre style=\"white-space:pre;overflow-x:auto;line-height:normal;font-family:Menlo,'DejaVu Sans Mono',consolas,'Courier New',monospace\">┏━━━━━━━━━━━━━━━━━━━━━━━━━━━━━━━━━┳━━━━━━━━━━━━━━━━━━━━━━━━┳━━━━━━━━━━━━━━━┓\n",
       "┃<span style=\"font-weight: bold\"> Layer (type)                    </span>┃<span style=\"font-weight: bold\"> Output Shape           </span>┃<span style=\"font-weight: bold\">       Param # </span>┃\n",
       "┡━━━━━━━━━━━━━━━━━━━━━━━━━━━━━━━━━╇━━━━━━━━━━━━━━━━━━━━━━━━╇━━━━━━━━━━━━━━━┩\n",
       "│ embedding (<span style=\"color: #0087ff; text-decoration-color: #0087ff\">Embedding</span>)           │ (<span style=\"color: #00d7ff; text-decoration-color: #00d7ff\">None</span>, <span style=\"color: #00af00; text-decoration-color: #00af00\">4</span>, <span style=\"color: #00af00; text-decoration-color: #00af00\">8</span>)           │           <span style=\"color: #00af00; text-decoration-color: #00af00\">240</span> │\n",
       "├─────────────────────────────────┼────────────────────────┼───────────────┤\n",
       "│ flatten (<span style=\"color: #0087ff; text-decoration-color: #0087ff\">Flatten</span>)               │ (<span style=\"color: #00d7ff; text-decoration-color: #00d7ff\">None</span>, <span style=\"color: #00af00; text-decoration-color: #00af00\">32</span>)             │             <span style=\"color: #00af00; text-decoration-color: #00af00\">0</span> │\n",
       "├─────────────────────────────────┼────────────────────────┼───────────────┤\n",
       "│ dense (<span style=\"color: #0087ff; text-decoration-color: #0087ff\">Dense</span>)                   │ (<span style=\"color: #00d7ff; text-decoration-color: #00d7ff\">None</span>, <span style=\"color: #00af00; text-decoration-color: #00af00\">1</span>)              │            <span style=\"color: #00af00; text-decoration-color: #00af00\">33</span> │\n",
       "└─────────────────────────────────┴────────────────────────┴───────────────┘\n",
       "</pre>\n"
      ],
      "text/plain": [
       "┏━━━━━━━━━━━━━━━━━━━━━━━━━━━━━━━━━┳━━━━━━━━━━━━━━━━━━━━━━━━┳━━━━━━━━━━━━━━━┓\n",
       "┃\u001b[1m \u001b[0m\u001b[1mLayer (type)                   \u001b[0m\u001b[1m \u001b[0m┃\u001b[1m \u001b[0m\u001b[1mOutput Shape          \u001b[0m\u001b[1m \u001b[0m┃\u001b[1m \u001b[0m\u001b[1m      Param #\u001b[0m\u001b[1m \u001b[0m┃\n",
       "┡━━━━━━━━━━━━━━━━━━━━━━━━━━━━━━━━━╇━━━━━━━━━━━━━━━━━━━━━━━━╇━━━━━━━━━━━━━━━┩\n",
       "│ embedding (\u001b[38;5;33mEmbedding\u001b[0m)           │ (\u001b[38;5;45mNone\u001b[0m, \u001b[38;5;34m4\u001b[0m, \u001b[38;5;34m8\u001b[0m)           │           \u001b[38;5;34m240\u001b[0m │\n",
       "├─────────────────────────────────┼────────────────────────┼───────────────┤\n",
       "│ flatten (\u001b[38;5;33mFlatten\u001b[0m)               │ (\u001b[38;5;45mNone\u001b[0m, \u001b[38;5;34m32\u001b[0m)             │             \u001b[38;5;34m0\u001b[0m │\n",
       "├─────────────────────────────────┼────────────────────────┼───────────────┤\n",
       "│ dense (\u001b[38;5;33mDense\u001b[0m)                   │ (\u001b[38;5;45mNone\u001b[0m, \u001b[38;5;34m1\u001b[0m)              │            \u001b[38;5;34m33\u001b[0m │\n",
       "└─────────────────────────────────┴────────────────────────┴───────────────┘\n"
      ]
     },
     "metadata": {},
     "output_type": "display_data"
    },
    {
     "data": {
      "text/html": [
       "<pre style=\"white-space:pre;overflow-x:auto;line-height:normal;font-family:Menlo,'DejaVu Sans Mono',consolas,'Courier New',monospace\"><span style=\"font-weight: bold\"> Total params: </span><span style=\"color: #00af00; text-decoration-color: #00af00\">821</span> (3.21 KB)\n",
       "</pre>\n"
      ],
      "text/plain": [
       "\u001b[1m Total params: \u001b[0m\u001b[38;5;34m821\u001b[0m (3.21 KB)\n"
      ]
     },
     "metadata": {},
     "output_type": "display_data"
    },
    {
     "data": {
      "text/html": [
       "<pre style=\"white-space:pre;overflow-x:auto;line-height:normal;font-family:Menlo,'DejaVu Sans Mono',consolas,'Courier New',monospace\"><span style=\"font-weight: bold\"> Trainable params: </span><span style=\"color: #00af00; text-decoration-color: #00af00\">273</span> (1.07 KB)\n",
       "</pre>\n"
      ],
      "text/plain": [
       "\u001b[1m Trainable params: \u001b[0m\u001b[38;5;34m273\u001b[0m (1.07 KB)\n"
      ]
     },
     "metadata": {},
     "output_type": "display_data"
    },
    {
     "data": {
      "text/html": [
       "<pre style=\"white-space:pre;overflow-x:auto;line-height:normal;font-family:Menlo,'DejaVu Sans Mono',consolas,'Courier New',monospace\"><span style=\"font-weight: bold\"> Non-trainable params: </span><span style=\"color: #00af00; text-decoration-color: #00af00\">0</span> (0.00 B)\n",
       "</pre>\n"
      ],
      "text/plain": [
       "\u001b[1m Non-trainable params: \u001b[0m\u001b[38;5;34m0\u001b[0m (0.00 B)\n"
      ]
     },
     "metadata": {},
     "output_type": "display_data"
    },
    {
     "data": {
      "text/html": [
       "<pre style=\"white-space:pre;overflow-x:auto;line-height:normal;font-family:Menlo,'DejaVu Sans Mono',consolas,'Courier New',monospace\"><span style=\"font-weight: bold\"> Optimizer params: </span><span style=\"color: #00af00; text-decoration-color: #00af00\">548</span> (2.14 KB)\n",
       "</pre>\n"
      ],
      "text/plain": [
       "\u001b[1m Optimizer params: \u001b[0m\u001b[38;5;34m548\u001b[0m (2.14 KB)\n"
      ]
     },
     "metadata": {},
     "output_type": "display_data"
    }
   ],
   "source": [
    "model.compile(loss='binary_crossentropy', optimizer='adam', metrics=['accuracy']) \n",
    "model.fit(x, y, epochs=50, verbose=0)\n",
    "loss, accuracy = model.evaluate(x, y)\n",
    "model.summary()"
   ]
  },
  {
   "cell_type": "code",
   "execution_count": 5,
   "id": "edf4904a",
   "metadata": {},
   "outputs": [
    {
     "data": {
      "text/plain": [
       "30"
      ]
     },
     "execution_count": 5,
     "metadata": {},
     "output_type": "execute_result"
    }
   ],
   "source": [
    "embd = model.get_layer('embedding').get_weights()[0]\n",
    "len(embd)"
   ]
  },
  {
   "cell_type": "code",
   "execution_count": null,
   "id": "8498fcc0",
   "metadata": {},
   "outputs": [
    {
     "data": {
      "text/plain": [
       "(30, 8)"
      ]
     },
     "execution_count": 6,
     "metadata": {},
     "output_type": "execute_result"
    }
   ],
   "source": [
    "embd.shape\n"
   ]
  },
  {
   "cell_type": "code",
   "execution_count": 7,
   "id": "4e60b399",
   "metadata": {},
   "outputs": [
    {
     "data": {
      "text/plain": [
       "array([[-3.38120125e-02,  3.05222627e-02,  5.47654070e-02,\n",
       "        -1.90903470e-02,  3.01795769e-02,  8.65986720e-02,\n",
       "         5.96349351e-02,  6.02794774e-02],\n",
       "       [-8.46794397e-02,  7.16528669e-03,  9.26483888e-03,\n",
       "         8.07155296e-02,  2.76326872e-02,  7.03332052e-02,\n",
       "        -2.95971474e-03, -4.45726924e-02],\n",
       "       [ 4.56497185e-02, -2.10633762e-02,  4.19584997e-02,\n",
       "        -3.66406664e-02,  1.82031654e-02,  4.23274375e-02,\n",
       "        -1.61368959e-02,  4.86282259e-03],\n",
       "       [ 7.38838455e-03, -6.33115917e-02, -8.86425450e-02,\n",
       "        -4.28287759e-02, -6.18432164e-02, -9.48656127e-02,\n",
       "         4.25875820e-02,  2.98895240e-02],\n",
       "       [-2.51669809e-03,  2.62612104e-03,  9.40479338e-04,\n",
       "        -9.43630934e-03,  3.69300582e-02, -6.89815730e-04,\n",
       "        -7.00893253e-03, -2.90542729e-02],\n",
       "       [ 4.52038310e-02,  2.83527113e-02,  3.09013836e-02,\n",
       "        -3.25490162e-03,  4.65427712e-03,  2.87307836e-02,\n",
       "         4.75421548e-05, -1.31180137e-03],\n",
       "       [-3.00268773e-02, -4.03424017e-02,  2.68634669e-02,\n",
       "         4.88062613e-02, -5.74179739e-03,  6.61943108e-03,\n",
       "         2.17575766e-02,  3.03497165e-03],\n",
       "       [ 3.43180187e-02, -2.26861145e-03,  3.02686319e-02,\n",
       "        -7.60295335e-03, -5.46646025e-03,  3.67434956e-02,\n",
       "         2.42054276e-02,  1.41959423e-02],\n",
       "       [-3.91187891e-02,  1.55242421e-02, -1.08049288e-02,\n",
       "        -3.75316367e-02, -6.07396290e-03,  3.16627659e-02,\n",
       "         1.48747079e-02, -2.34626420e-02],\n",
       "       [-1.71951763e-02, -2.67637502e-02, -2.77655609e-02,\n",
       "         1.54327489e-02,  1.35608427e-02,  2.26021446e-02,\n",
       "        -2.38057505e-02, -1.77310333e-02],\n",
       "       [-3.57707031e-02, -1.67294629e-02,  1.77264325e-02,\n",
       "         4.73573096e-02, -3.46096158e-02, -2.81965137e-02,\n",
       "        -4.32465188e-02, -1.93050150e-02],\n",
       "       [ 1.85419060e-02,  5.01259416e-03,  2.25461461e-02,\n",
       "        -4.99553084e-02,  4.83572483e-04, -8.78300518e-03,\n",
       "         3.65420431e-03, -3.12306043e-02],\n",
       "       [ 2.94607170e-02, -2.38873344e-02,  3.37945409e-02,\n",
       "         1.44138944e-03,  4.76114936e-02, -8.49766843e-03,\n",
       "         3.64350043e-02,  3.05850431e-02],\n",
       "       [-3.45141180e-02, -3.04746162e-02,  3.88309099e-02,\n",
       "        -4.17791717e-02, -4.22855467e-03,  2.82910950e-02,\n",
       "        -3.10229138e-03,  2.02267431e-02],\n",
       "       [-1.57588888e-02, -1.96472183e-02, -8.30961950e-03,\n",
       "        -4.38095815e-02,  2.81633511e-02, -8.61788169e-03,\n",
       "         3.28164548e-02,  2.65030209e-02],\n",
       "       [-2.85973903e-02, -3.52149084e-03, -2.65025031e-02,\n",
       "         2.20709778e-02, -2.71251686e-02, -3.97149213e-02,\n",
       "         4.94548567e-02, -4.71255556e-02],\n",
       "       [-1.66007653e-02, -2.07388047e-02,  7.25774840e-03,\n",
       "         1.09829791e-02,  2.34777853e-03, -9.41623002e-04,\n",
       "        -1.44153945e-02,  2.20716000e-04],\n",
       "       [-3.51767652e-02,  4.90952767e-02, -3.70496400e-02,\n",
       "         1.75791867e-02,  4.85924371e-02, -3.47579233e-02,\n",
       "         1.95330381e-03,  8.55760649e-03],\n",
       "       [ 7.90968314e-02, -8.84939954e-02, -5.50506189e-02,\n",
       "        -6.10065088e-02,  2.05789171e-02,  5.36072962e-02,\n",
       "        -5.04908897e-02, -2.38530133e-02],\n",
       "       [ 5.51251322e-03, -1.18416548e-02,  3.71812098e-02,\n",
       "         4.22385223e-02, -4.87312078e-02, -1.72994360e-02,\n",
       "         2.84868479e-03, -9.10865143e-03],\n",
       "       [-4.54194024e-02, -3.50226127e-02, -3.34898159e-02,\n",
       "        -1.77276600e-02,  4.52130176e-02,  2.29498539e-02,\n",
       "        -4.41000275e-02,  4.30649258e-02],\n",
       "       [ 2.25697793e-02, -4.97925282e-03, -3.53215337e-02,\n",
       "         7.61506706e-03,  7.79801607e-03,  3.15129869e-02,\n",
       "        -1.58887021e-02, -4.23428528e-02],\n",
       "       [ 1.15743503e-01, -6.62498623e-02, -9.30956602e-02,\n",
       "        -8.91862735e-02, -1.63841266e-02, -2.80508418e-02,\n",
       "         9.16249603e-02,  4.85556833e-02],\n",
       "       [-4.92030755e-02, -3.49769108e-02, -4.37250137e-02,\n",
       "        -9.23497602e-03,  2.65363120e-02,  9.90330055e-03,\n",
       "        -1.36456266e-02,  1.14873759e-02],\n",
       "       [-8.37722793e-02,  7.02020302e-02,  3.49540859e-02,\n",
       "         1.30619518e-02, -1.00897804e-01, -9.17726457e-02,\n",
       "         6.47745505e-02,  6.92692213e-03],\n",
       "       [ 9.45200324e-02, -9.66851860e-02, -1.42316772e-02,\n",
       "        -1.00757264e-01, -6.56914487e-02, -1.84727262e-03,\n",
       "        -7.87109733e-02, -7.66476393e-02],\n",
       "       [ 1.04306713e-02, -2.50463244e-02,  3.55330370e-02,\n",
       "         3.61596607e-02, -1.40025839e-02, -8.89192894e-03,\n",
       "         2.59209797e-03, -2.38836538e-02],\n",
       "       [-6.56573623e-02,  4.86536361e-02,  2.68700961e-02,\n",
       "         5.16479202e-02,  7.86344055e-03,  9.49494317e-02,\n",
       "        -9.88958403e-02, -6.49246722e-02],\n",
       "       [-1.29322782e-02, -1.89516675e-02, -1.73524506e-02,\n",
       "        -1.75245181e-02,  5.43842465e-03, -2.74625309e-02,\n",
       "        -2.77607199e-02, -1.26995333e-02],\n",
       "       [-4.65246215e-02,  8.29889551e-02,  8.24751705e-02,\n",
       "         4.28531989e-02,  2.39032246e-02, -1.43545698e-02,\n",
       "        -6.75772727e-02,  7.98842236e-02]], dtype=float32)"
      ]
     },
     "execution_count": 7,
     "metadata": {},
     "output_type": "execute_result"
    }
   ],
   "source": [
    "embd"
   ]
  },
  {
   "cell_type": "code",
   "execution_count": null,
   "id": "613ca42a",
   "metadata": {},
   "outputs": [],
   "source": []
  }
 ],
 "metadata": {
  "kernelspec": {
   "display_name": "base",
   "language": "python",
   "name": "python3"
  },
  "language_info": {
   "codemirror_mode": {
    "name": "ipython",
    "version": 3
   },
   "file_extension": ".py",
   "mimetype": "text/x-python",
   "name": "python",
   "nbconvert_exporter": "python",
   "pygments_lexer": "ipython3",
   "version": "3.12.7"
  }
 },
 "nbformat": 4,
 "nbformat_minor": 5
}
