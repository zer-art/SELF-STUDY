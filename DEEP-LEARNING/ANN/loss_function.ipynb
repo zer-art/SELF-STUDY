{
 "cells": [
  {
   "cell_type": "markdown",
   "id": "fd352d57",
   "metadata": {},
   "source": [
    "# **LOSS FUNCTION**"
   ]
  },
  {
   "cell_type": "code",
   "execution_count": 4,
   "id": "548f579d",
   "metadata": {},
   "outputs": [],
   "source": [
    "import numpy as np \n",
    "\n",
    "y_predicted = np.array([1,1,0,0,1])\n",
    "y_actual = np.array([.30,.7,1,0,.5])\n"
   ]
  },
  {
   "cell_type": "code",
   "execution_count": 5,
   "id": "287ee9fa",
   "metadata": {},
   "outputs": [],
   "source": [
    "def mean_absolute_error(y_actual, y_predicted):\n",
    "    \"\"\"\n",
    "    Mean Absolute Error (MAE)\n",
    "    :param y_actual: Actual values\n",
    "    :param y_predicted: Predicted values\n",
    "    :return: MAE value\n",
    "    \"\"\"\n",
    "    total_error = np.sum(np.abs(y_actual - y_predicted))\n",
    "    return np.mean(np.abs(y_actual - y_predicted)),total_error"
   ]
  },
  {
   "cell_type": "code",
   "execution_count": 6,
   "id": "b49131c6",
   "metadata": {},
   "outputs": [],
   "source": [
    "def mean_squared_error(y_actual, y_predicted):\n",
    "    \"\"\"\n",
    "    Mean Squared Error (MSE)\n",
    "    :param y_actual: Actual values\n",
    "    :param y_predicted: Predicted values\n",
    "    :return: MSE value\n",
    "    \"\"\"\n",
    "    total_error = np.sum((y_actual - y_predicted) ** 2)\n",
    "    return np.mean((y_actual - y_predicted) ** 2) , total_error"
   ]
  },
  {
   "cell_type": "code",
   "execution_count": 7,
   "id": "b2654d9e",
   "metadata": {},
   "outputs": [],
   "source": [
    "def Log_loss(y_actual, y_predicted):\n",
    "    \"\"\"\n",
    "    Log Loss (Binary Cross-Entropy Loss)\n",
    "    :param y_actual: Actual values (0 or 1)\n",
    "    :param y_predicted: Predicted probabilities\n",
    "    :return: Log loss value\n",
    "    \"\"\"\n",
    "    total_error = 0\n",
    "    for i in range(len(y_actual)):\n",
    "        if y_actual[i] == 1:\n",
    "            total_error += np.log(y_predicted[i])\n",
    "        else:\n",
    "            total_error += np.log(1 - y_predicted[i])\n",
    "    epsilon = 1e-15  # To avoid log(0)\n",
    "    y_predicted = np.clip(y_predicted, epsilon, 1 - epsilon)  # Clip predictions to avoid log(0)\n",
    "    \n",
    "    return -np.mean(y_actual * np.log(y_predicted) + (1 - y_actual) * np.log(1 - y_predicted)) ,total_error"
   ]
  },
  {
   "cell_type": "code",
   "execution_count": 8,
   "id": "19434ea9",
   "metadata": {},
   "outputs": [
    {
     "name": "stdout",
     "output_type": "stream",
     "text": [
      "Mean Absolute Error (MAE): (np.float64(0.5), np.float64(2.5))\n",
      "Mean Squared Error (MSE): (np.float64(0.366), np.float64(1.83))\n",
      "Log Loss (Binary Cross-Entropy Loss): (np.float64(17.2696280766844), np.float64(-inf))\n"
     ]
    },
    {
     "name": "stderr",
     "output_type": "stream",
     "text": [
      "C:\\Users\\13zer\\AppData\\Local\\Temp\\ipykernel_14872\\3750667282.py:13: RuntimeWarning: divide by zero encountered in log\n",
      "  total_error += np.log(1 - y_predicted[i])\n",
      "C:\\Users\\13zer\\AppData\\Local\\Temp\\ipykernel_14872\\3750667282.py:11: RuntimeWarning: divide by zero encountered in log\n",
      "  total_error += np.log(y_predicted[i])\n"
     ]
    }
   ],
   "source": [
    "print(\"Mean Absolute Error (MAE):\", mean_absolute_error(y_actual, y_predicted))\n",
    "print(\"Mean Squared Error (MSE):\", mean_squared_error(y_actual, y_predicted))\n",
    "print(\"Log Loss (Binary Cross-Entropy Loss):\", Log_loss(y_actual, y_predicted))"
   ]
  },
  {
   "cell_type": "markdown",
   "id": "8f50c3d9",
   "metadata": {},
   "source": []
  }
 ],
 "metadata": {
  "kernelspec": {
   "display_name": "dl",
   "language": "python",
   "name": "python3"
  },
  "language_info": {
   "codemirror_mode": {
    "name": "ipython",
    "version": 3
   },
   "file_extension": ".py",
   "mimetype": "text/x-python",
   "name": "python",
   "nbconvert_exporter": "python",
   "pygments_lexer": "ipython3",
   "version": "3.12.0"
  }
 },
 "nbformat": 4,
 "nbformat_minor": 5
}
