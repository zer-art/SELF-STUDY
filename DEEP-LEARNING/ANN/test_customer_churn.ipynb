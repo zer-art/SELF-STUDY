import numpy as np
import tensorflow as tf
from tensorflow import keras

# test_customer_churn.ipynb

from customer_churn import model  # Import the model from the main file

# Mock data
x_train = np.random.rand(100, 26)  # 100 samples, 26 features
y_train = np.random.randint(0, 2, 100)  # 100 binary labels

def test_model_structure():
    assert len(model.layers) == 3, "Model should have 3 layers"
    assert model.layers[0].output_shape == (None, 20), "First layer output shape mismatch"
    assert model.layers[1].output_shape == (None, 15), "Second layer output shape mismatch"
    assert model.layers[2].output_shape == (None, 1), "Third layer output shape mismatch"

def test_model_training():
    try:
        model.fit(x_train, y_train, epochs=1, verbose=0)  # Train for 1 epoch
    except Exception as e:
        assert False, f"Model training failed with error: {e}"

# Run tests
test_model_structure()
test_model_training()
print("All tests passed!")